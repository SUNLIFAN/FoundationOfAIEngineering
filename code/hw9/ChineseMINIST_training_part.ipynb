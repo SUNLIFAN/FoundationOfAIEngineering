{
 "cells": [
  {
   "cell_type": "markdown",
   "id": "74f0f229",
   "metadata": {},
   "source": [
    "# Chinese HandWritten Numbers Classification"
   ]
  },
  {
   "cell_type": "markdown",
   "id": "ebafc4bf",
   "metadata": {},
   "source": [
    "## Customized dataset"
   ]
  },
  {
   "cell_type": "code",
   "execution_count": 8,
   "id": "9d11fb94",
   "metadata": {},
   "outputs": [],
   "source": [
    "import torch\n",
    "from torch.utils.data import Dataset\n",
    "from torchvision.transforms import ToTensor\n",
    "import matplotlib.pyplot as plt\n",
    "\n",
    "import os\n",
    "import pandas as pd\n",
    "from torchvision.io import read_image\n",
    "\n",
    "class ChineseMINISTDataset(Dataset):\n",
    "    def __init__(self, annotations_file, img_dir, transform=None, target_tranform=None):\n",
    "        self.img_labels = pd.read_csv(annotations_file)\n",
    "        self.img_dir = img_dir\n",
    "        self.transform = transform\n",
    "        self.target_transform = target_transform\n",
    "        \n",
    "    def __len__(self):\n",
    "        return len(self.img_labels)\n",
    "    \n",
    "    def __getitem__(self, idx):\n",
    "        img_path = os.path.join(self.img_dir, self.img_labels.iloc[idx, 0])\n",
    "        image = read_image(img_path)\n",
    "        label = self.img_labels.iloc[idx,1]\n",
    "        if self.transform:\n",
    "            image = self.transform(image)\n",
    "        if self.target_transform:\n",
    "            label = self.target_transform(label)\n",
    "        return image, label"
   ]
  },
  {
   "cell_type": "markdown",
   "id": "bf345b7c",
   "metadata": {},
   "source": [
    "## Data preprocessing"
   ]
  },
  {
   "cell_type": "code",
   "execution_count": 9,
   "id": "5b3749e2",
   "metadata": {},
   "outputs": [],
   "source": [
    "from torchvision.transforms import ToTensor, Lambda\n",
    "\n",
    "transform = Lambda(lambda y : y.float())\n",
    "# transform the integer label to one-hot encoding vector\n",
    "target_transform = Lambda(lambda y : torch.zeros(10, dtype=torch.float).scatter_(dim=0, index=torch.tensor(y-1), value=1))"
   ]
  },
  {
   "cell_type": "markdown",
   "id": "7b1cbba5",
   "metadata": {},
   "source": [
    "## Start to build a model"
   ]
  },
  {
   "cell_type": "code",
   "execution_count": 10,
   "id": "bf5cc840",
   "metadata": {},
   "outputs": [
    {
     "name": "stdout",
     "output_type": "stream",
     "text": [
      "Using cpu device\n"
     ]
    }
   ],
   "source": [
    "from torch import nn\n",
    "from torch.utils.data import DataLoader\n",
    "\n",
    "device = \"cuda\" if torch.cuda.is_available() else \"cpu\"\n",
    "print(f\"Using {device} device\")"
   ]
  },
  {
   "cell_type": "markdown",
   "id": "a4cd1a16",
   "metadata": {},
   "source": [
    "### Define a NN class"
   ]
  },
  {
   "cell_type": "code",
   "execution_count": 11,
   "id": "7dbc0af8",
   "metadata": {},
   "outputs": [],
   "source": [
    "class CNN(nn.Module):\n",
    "    def __init__(self):\n",
    "        super(CNN, self).__init__()\n",
    "        self.conv1 = nn.Sequential(         \n",
    "            nn.Conv2d(\n",
    "                in_channels=1,              \n",
    "                out_channels=16,            \n",
    "                kernel_size=5,              \n",
    "                stride=1,                   \n",
    "                padding=2,                  \n",
    "            ),                              \n",
    "            nn.ReLU(),                      \n",
    "            nn.MaxPool2d(kernel_size=2),    \n",
    "        )\n",
    "        self.conv2 = nn.Sequential(         \n",
    "            nn.Conv2d(16, 32, 5, 1, 2),     \n",
    "            nn.ReLU(),                      \n",
    "            nn.MaxPool2d(2),                \n",
    "        )\n",
    "        # fully connected layer, output 10 classes\n",
    "        self.out = nn.Linear(8192, 10)\n",
    "    def forward(self, x):\n",
    "        x = self.conv1(x)\n",
    "        x = self.conv2(x)\n",
    "       \n",
    "        x = x.view(x.size(0), -1)       \n",
    "        output = self.out(x)\n",
    "        return output   "
   ]
  },
  {
   "cell_type": "code",
   "execution_count": 12,
   "id": "f765c9bc",
   "metadata": {},
   "outputs": [
    {
     "name": "stdout",
     "output_type": "stream",
     "text": [
      "CNN(\n",
      "  (conv1): Sequential(\n",
      "    (0): Conv2d(1, 16, kernel_size=(5, 5), stride=(1, 1), padding=(2, 2))\n",
      "    (1): ReLU()\n",
      "    (2): MaxPool2d(kernel_size=2, stride=2, padding=0, dilation=1, ceil_mode=False)\n",
      "  )\n",
      "  (conv2): Sequential(\n",
      "    (0): Conv2d(16, 32, kernel_size=(5, 5), stride=(1, 1), padding=(2, 2))\n",
      "    (1): ReLU()\n",
      "    (2): MaxPool2d(kernel_size=2, stride=2, padding=0, dilation=1, ceil_mode=False)\n",
      "  )\n",
      "  (out): Linear(in_features=8192, out_features=10, bias=True)\n",
      ")\n"
     ]
    }
   ],
   "source": [
    "model = CNN()\n",
    "print(model)"
   ]
  },
  {
   "cell_type": "markdown",
   "id": "240cc8ac",
   "metadata": {},
   "source": [
    "### Load dataset"
   ]
  },
  {
   "cell_type": "code",
   "execution_count": 13,
   "id": "5b07d692",
   "metadata": {},
   "outputs": [],
   "source": [
    "training_path = 'training_set.csv'\n",
    "validation_path = 'validation_set.csv'\n",
    "testing_path = 'testing_set.csv'\n",
    "final_train_path = 'final_training_set.csv'\n",
    "img_dir = 'numbers'\n",
    "training_datasets = ChineseMINISTDataset(training_path, img_dir, transform, target_transform)\n",
    "validation_datasets = ChineseMINISTDataset(validation_path, img_dir, transform, target_transform)\n",
    "testing_datasets = ChineseMINISTDataset(testing_path, img_dir, transform, target_transform)\n",
    "final_training_datasets = ChineseMINISTDataset(final_train_path, img_dir, transform, target_transform)"
   ]
  },
  {
   "cell_type": "code",
   "execution_count": 14,
   "id": "46d49b3d",
   "metadata": {},
   "outputs": [],
   "source": [
    "train_dataloader = DataLoader(training_datasets, batch_size=32)\n",
    "validate_dataloader = DataLoader(validation_datasets, batch_size=32)\n",
    "test_dataloader = DataLoader(testing_datasets, batch_size=32)\n",
    "final_train_dataloader = DataLoader(final_training_datasets, batch_size=32)"
   ]
  },
  {
   "cell_type": "markdown",
   "id": "a6766e77",
   "metadata": {},
   "source": [
    "### set hyperparameters"
   ]
  },
  {
   "cell_type": "code",
   "execution_count": 15,
   "id": "310beda9",
   "metadata": {},
   "outputs": [],
   "source": [
    "learning_rate = 1e-2\n",
    "batch_size = 32\n",
    "epochs = 15"
   ]
  },
  {
   "cell_type": "markdown",
   "id": "b4ab2cc9",
   "metadata": {},
   "source": [
    "### choose loss function"
   ]
  },
  {
   "cell_type": "code",
   "execution_count": 16,
   "id": "52c1d07b",
   "metadata": {},
   "outputs": [],
   "source": [
    "loss_fn = nn.CrossEntropyLoss()"
   ]
  },
  {
   "cell_type": "markdown",
   "id": "2bac99de",
   "metadata": {},
   "source": [
    "### choose optimizer"
   ]
  },
  {
   "cell_type": "code",
   "execution_count": 17,
   "id": "5cf256f6",
   "metadata": {},
   "outputs": [],
   "source": [
    "optimizer = torch.optim.SGD(model.parameters(), lr=learning_rate, weight_decay=1e-2)"
   ]
  },
  {
   "cell_type": "markdown",
   "id": "37fc5acb",
   "metadata": {},
   "source": [
    "### define train loop and valiadate loop"
   ]
  },
  {
   "cell_type": "code",
   "execution_count": 18,
   "id": "06506186",
   "metadata": {},
   "outputs": [],
   "source": [
    "def train_loop(dataloader, model, loss_fn, optimizer):\n",
    "    size = len(dataloader.dataset)\n",
    "    for batch, (X, y) in enumerate(dataloader):\n",
    "        # Compute prediction and loss\n",
    "        pred = model(X)\n",
    "        loss = loss_fn(pred, y)\n",
    "\n",
    "        # Backpropagation\n",
    "        optimizer.zero_grad()\n",
    "        loss.backward()\n",
    "        optimizer.step()\n",
    "\n",
    "        if batch % 100 == 0:\n",
    "            loss, current = loss.item(), batch * len(X)\n",
    "            print(f\"loss: {loss:>7f}  [{current:>5d}/{size:>5d}]\")\n",
    "\n",
    "\n",
    "def test_loop(dataloader, model, loss_fn):\n",
    "    size = len(dataloader.dataset)\n",
    "    num_batches = len(dataloader)\n",
    "    test_loss, correct = 0, 0\n",
    "\n",
    "    with torch.no_grad():\n",
    "        for X, y in dataloader:\n",
    "            pred = model(X)\n",
    "            test_loss += loss_fn(pred, y).item()\n",
    "            correct += (pred.argmax(1) == y.argmax(1)).type(torch.float).sum().item()\n",
    "\n",
    "    test_loss /= num_batches\n",
    "    correct /= size\n",
    "    print(f\"Test Error: \\n Accuracy: {(100*correct):>0.1f}%, Avg loss: {test_loss:>8f} \\n\")\n",
    "    \n",
    "def validate_loop(dataloader, model, loss_fn):\n",
    "    size = len(dataloader.dataset)\n",
    "    num_batches = len(dataloader)\n",
    "    validate_loss, correct = 0, 0\n",
    "    \n",
    "    with torch.no_grad():\n",
    "        for X, y in dataloader:\n",
    "            pred = model(X)\n",
    "            validate_loss += loss_fn(pred, y).item()\n",
    "            correct += (pred.argmax(1) == y.argmax(1)).type(torch.float).sum().item()\n",
    "    validate_loss /= num_batches\n",
    "    correct /= size\n",
    "    print(f\"Validate Error: \\n Accuracy : {(100*correct):>0.1f}%, Avg loss: {validate_loss:>8f} \\n\")"
   ]
  },
  {
   "cell_type": "markdown",
   "id": "568e9ece",
   "metadata": {},
   "source": [
    "### train and test"
   ]
  },
  {
   "cell_type": "code",
   "execution_count": 19,
   "id": "c07e8940",
   "metadata": {},
   "outputs": [
    {
     "name": "stdout",
     "output_type": "stream",
     "text": [
      "Epoch 1\n",
      "-------------------------------\n",
      "loss: 6.565631  [    0/ 7998]\n",
      "loss: 0.363906  [ 3200/ 7998]\n",
      "loss: 1.078975  [ 6400/ 7998]\n",
      "Epoch 2\n",
      "-------------------------------\n",
      "loss: 0.119232  [    0/ 7998]\n",
      "loss: 0.051258  [ 3200/ 7998]\n",
      "loss: 0.673055  [ 6400/ 7998]\n",
      "Epoch 3\n",
      "-------------------------------\n",
      "loss: 0.055369  [    0/ 7998]\n",
      "loss: 0.050678  [ 3200/ 7998]\n",
      "loss: 0.634909  [ 6400/ 7998]\n",
      "Epoch 4\n",
      "-------------------------------\n",
      "loss: 0.022679  [    0/ 7998]\n",
      "loss: 0.082705  [ 3200/ 7998]\n",
      "loss: 0.346044  [ 6400/ 7998]\n",
      "Epoch 5\n",
      "-------------------------------\n",
      "loss: 0.038810  [    0/ 7998]\n",
      "loss: 0.032603  [ 3200/ 7998]\n",
      "loss: 0.252924  [ 6400/ 7998]\n",
      "Epoch 6\n",
      "-------------------------------\n",
      "loss: 0.009729  [    0/ 7998]\n",
      "loss: 0.122204  [ 3200/ 7998]\n",
      "loss: 0.239973  [ 6400/ 7998]\n",
      "Epoch 7\n",
      "-------------------------------\n",
      "loss: 0.013339  [    0/ 7998]\n",
      "loss: 0.033820  [ 3200/ 7998]\n",
      "loss: 0.164968  [ 6400/ 7998]\n",
      "Epoch 8\n",
      "-------------------------------\n",
      "loss: 0.010436  [    0/ 7998]\n",
      "loss: 0.003787  [ 3200/ 7998]\n",
      "loss: 0.208437  [ 6400/ 7998]\n",
      "Epoch 9\n",
      "-------------------------------\n",
      "loss: 0.036580  [    0/ 7998]\n",
      "loss: 0.121887  [ 3200/ 7998]\n",
      "loss: 0.107312  [ 6400/ 7998]\n",
      "Epoch 10\n",
      "-------------------------------\n",
      "loss: 0.007350  [    0/ 7998]\n",
      "loss: 0.002865  [ 3200/ 7998]\n",
      "loss: 0.160208  [ 6400/ 7998]\n",
      "Epoch 11\n",
      "-------------------------------\n",
      "loss: 0.003625  [    0/ 7998]\n",
      "loss: 0.002620  [ 3200/ 7998]\n",
      "loss: 0.084859  [ 6400/ 7998]\n",
      "Epoch 12\n",
      "-------------------------------\n",
      "loss: 0.000309  [    0/ 7998]\n",
      "loss: 0.007034  [ 3200/ 7998]\n",
      "loss: 0.090281  [ 6400/ 7998]\n",
      "Epoch 13\n",
      "-------------------------------\n",
      "loss: 0.000009  [    0/ 7998]\n",
      "loss: 0.021597  [ 3200/ 7998]\n",
      "loss: 0.190851  [ 6400/ 7998]\n",
      "Epoch 14\n",
      "-------------------------------\n",
      "loss: 0.000397  [    0/ 7998]\n",
      "loss: 0.011819  [ 3200/ 7998]\n",
      "loss: 0.109759  [ 6400/ 7998]\n",
      "Epoch 15\n",
      "-------------------------------\n",
      "loss: 0.000008  [    0/ 7998]\n",
      "loss: 0.002813  [ 3200/ 7998]\n",
      "loss: 0.124749  [ 6400/ 7998]\n",
      "Done!\n"
     ]
    }
   ],
   "source": [
    "for t in range(epochs):\n",
    "    print(f\"Epoch {t+1}\\n-------------------------------\")\n",
    "    train_loop(final_train_dataloader, model, loss_fn, optimizer)\n",
    "print(\"Done!\")"
   ]
  },
  {
   "cell_type": "code",
   "execution_count": 20,
   "id": "4e3be0be",
   "metadata": {},
   "outputs": [
    {
     "name": "stdout",
     "output_type": "stream",
     "text": [
      "Test Error: \n",
      " Accuracy: 92.5%, Avg loss: 0.383298 \n",
      "\n"
     ]
    }
   ],
   "source": [
    "test_loop(test_dataloader, model, loss_fn)"
   ]
  },
  {
   "cell_type": "markdown",
   "id": "554b8c42",
   "metadata": {},
   "source": [
    "## Save model"
   ]
  },
  {
   "cell_type": "code",
   "execution_count": 21,
   "id": "d2a384d3",
   "metadata": {},
   "outputs": [],
   "source": [
    "torch.save(model.state_dict(), 'model_weights.pth')"
   ]
  },
  {
   "cell_type": "markdown",
   "id": "0701e777",
   "metadata": {},
   "source": [
    "### Done!"
   ]
  }
 ],
 "metadata": {
  "kernelspec": {
   "display_name": "Python 3",
   "language": "python",
   "name": "python3"
  },
  "language_info": {
   "codemirror_mode": {
    "name": "ipython",
    "version": 3
   },
   "file_extension": ".py",
   "mimetype": "text/x-python",
   "name": "python",
   "nbconvert_exporter": "python",
   "pygments_lexer": "ipython3",
   "version": "3.8.8"
  }
 },
 "nbformat": 4,
 "nbformat_minor": 5
}
