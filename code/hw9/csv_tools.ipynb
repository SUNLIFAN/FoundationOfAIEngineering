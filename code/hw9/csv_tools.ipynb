{
 "cells": [
  {
   "cell_type": "markdown",
   "id": "5ba0b331",
   "metadata": {},
   "source": [
    "# Tools for creating csv label file"
   ]
  },
  {
   "cell_type": "code",
   "execution_count": 1,
   "id": "d902b675",
   "metadata": {},
   "outputs": [],
   "source": [
    "import csv\n",
    "\n",
    "train_path = 'training_set.csv'\n",
    "validate_path = 'validation_set.csv'\n",
    "test_path = 'testing_set.csv'\n",
    "final_train_path = 'final_training_set.csv'\n",
    "with open(train_path, 'w', encoding='UTF8') as f1, open(validate_path, 'w', encoding='UTF8') as f2, open(test_path, 'w', encoding='UTF8') as f3, open(final_train_path, 'w', encoding='UTF8') as f4:\n",
    "    writer1 = csv.writer(f1)\n",
    "    writer2 = csv.writer(f2)\n",
    "    writer3 = csv.writer(f3)\n",
    "    writer4 = csv.writer(f4)\n",
    "    counter = 1\n",
    "    for i in range(1, 101):\n",
    "        for j in range(1, 11):\n",
    "            for k in range(2, 12):\n",
    "                img_name = 'Locate' + '{' + str(i) + ',' + str(j) + ',' + str(k) + '}' + '.jpg'\n",
    "                label = k - 1\n",
    "                row = [img_name, label]\n",
    "                if counter < 6000:\n",
    "                    writer1.writerow(row)\n",
    "                    writer4.writerow(row)\n",
    "                elif counter < 8000:\n",
    "                    writer2.writerow(row)\n",
    "                    writer4.writerow(row)\n",
    "                else:\n",
    "                    writer3.writerow(row)\n",
    "                counter += 1"
   ]
  },
  {
   "cell_type": "markdown",
   "id": "25230223",
   "metadata": {},
   "source": [
    "## there are 2 columns in labels.csv, first col is img_name, second col is value label "
   ]
  }
 ],
 "metadata": {
  "kernelspec": {
   "display_name": "Python 3",
   "language": "python",
   "name": "python3"
  },
  "language_info": {
   "codemirror_mode": {
    "name": "ipython",
    "version": 3
   },
   "file_extension": ".py",
   "mimetype": "text/x-python",
   "name": "python",
   "nbconvert_exporter": "python",
   "pygments_lexer": "ipython3",
   "version": "3.8.8"
  }
 },
 "nbformat": 4,
 "nbformat_minor": 5
}
